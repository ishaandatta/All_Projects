{
 "cells": [
  {
   "cell_type": "code",
   "execution_count": 1,
   "metadata": {},
   "outputs": [
    {
     "data": {
      "application/vnd.jupyter.widget-view+json": {
       "model_id": "5407af9e9d144648a6af275d3f024e2f",
       "version_major": 2,
       "version_minor": 0
      },
      "text/plain": [
       "HTML(value='<c><b><font color=\\'DarkBlue\\' size = \"+1\"> &nbsp;&nbsp;&nbsp;&nbsp;&nbsp;&nbsp;&nbsp;&nbsp;&nbsp;…"
      ]
     },
     "metadata": {},
     "output_type": "display_data"
    },
    {
     "data": {
      "application/vnd.jupyter.widget-view+json": {
       "model_id": "cdd01851171549bab064680b9317136f",
       "version_major": 2,
       "version_minor": 0
      },
      "text/plain": [
       "Tab(children=(HBox(children=(Text(value='', layout=Layout(height='10px', width='150px'), placeholder='Aries Ro…"
      ]
     },
     "metadata": {},
     "output_type": "display_data"
    },
    {
     "data": {
      "application/vnd.jupyter.widget-view+json": {
       "model_id": "0b165724eb454411801152bb54749fa3",
       "version_major": 2,
       "version_minor": 0
      },
      "text/plain": [
       "Output()"
      ]
     },
     "metadata": {},
     "output_type": "display_data"
    }
   ],
   "source": [
    "#!/usr/bin/env python\n",
    "# coding: utf-8\n",
    "\n",
    "import ldms_ishaan_backend as ldms_backend\n",
    "get_ipython().run_line_magic('matplotlib', 'notebook')\n",
    "import matplotlib.pyplot as plt\n",
    "import pandas as pd\n",
    "import seaborn as sns\n",
    "from IPython.display import display\n",
    "from IPython.display import clear_output\n",
    "from ipywidgets import widgets\n",
    "#from matplotlib.widgets import Button\n",
    "from ipywidgets.widgets.interaction import show_inline_matplotlib_plots\n",
    "%matplotlib notebook\n",
    "%matplotlib inline\n",
    "\n",
    "import time\n",
    "import numpy as np\n",
    "import IPython\n",
    "\n",
    "#Default Values\n",
    "global aries_rtr_id\n",
    "global r\n",
    "global c\n",
    "\n",
    "#Router tile variables\n",
    "aries_rtr_id = 'c4-0c2s8'\n",
    "r = 0\n",
    "c = 0\n",
    "time_temp =0\n",
    "\n",
    "#NIC Variables\n",
    "nid_inp = 'nodeID'\n",
    "\n",
    "#Latency variables\n",
    "nid1_inp=0\n",
    "nid2_inp=0\n",
    "\n",
    "#Variable Update\n",
    "def router_clicked(b):\n",
    "    global aries_rtr_id\n",
    "    global r\n",
    "    global c\n",
    "    global time_temp\n",
    "    aries_rtr_id = rtr_id_inp.value\n",
    "    r = int(r_inp.value)\n",
    "    c = int(c_inp.value)\n",
    "    time_temp= int(c_time_temp.value)\n",
    "    drawit(1,\"Router: \", aries_rtr_id)\n",
    "    \n",
    "def nic_clicked(b):\n",
    "    global node_id\n",
    "    global time_temp\n",
    "    node_id = nid_inp.value\n",
    "    time_temp= int(nic_time_temp.value)\n",
    "    drawit(2,\"Node :\",node_id)\n",
    "    \n",
    "def latency_clicked(b):\n",
    "    global n1\n",
    "    global n2\n",
    "    nid1 = nid1_inp.value\n",
    "    nid2=nid2_inp.value\n",
    "    drawit(3,nid1,nid2)\n",
    "    \n",
    "    \n",
    "#Title\n",
    "html_title = widgets.HTML(value = f\"<c><b><font color='DarkBlue' size = \\\"+1\\\"> &nbsp;&nbsp;&nbsp;&nbsp;&nbsp;&nbsp;&nbsp;&nbsp;&nbsp;&nbsp;&nbsp;&nbsp;&nbsp;&nbsp;&nbsp;&nbsp;&nbsp;&nbsp;&nbsp;&nbsp;&nbsp;&nbsp;&nbsp;&nbsp;&nbsp;&nbsp;&nbsp;&nbsp;&nbsp;&nbsp;&nbsp;&nbsp;&nbsp;&nbsp;&nbsp;&nbsp;&nbsp;&nbsp;&nbsp;&nbsp;&nbsp;&nbsp;&nbsp;&nbsp;&nbsp;&nbsp;&nbsp;&nbsp;LDMS Live</b> </c>\")\n",
    "                          \n",
    "                          \n",
    "#Router Counter Tab\n",
    "rtr_id_inp = widgets.Text(placeholder='Aries Router ID',layout=widgets.Layout(width='150px', height='10px'))\n",
    "r_inp = widgets.Text( placeholder = 'Row',layout=widgets.Layout(width='50px', height='10px'))\n",
    "c_inp = widgets.Text(placeholder = 'Col',layout=widgets.Layout(width='50px', height='10px'))\n",
    "c_time_temp = widgets.Text(placeholder = 'DeltaTime',layout=widgets.Layout(width='100px', height='10px'))\n",
    "router_button = widgets.Button(description='Add Graphs',layout=widgets.Layout(width='150px', height='28px'))\n",
    "router_button.on_click(router_clicked)\n",
    "hbox1 = widgets.HBox([rtr_id_inp,r_inp,c_inp,c_time_temp,router_button])\n",
    "\n",
    "#NIC Counter Tab\n",
    "nid_inp = widgets.Text(placeholder='Node ID',layout=widgets.Layout(width='150px', height='10px'))\n",
    "nic_time_temp = widgets.Text(placeholder = 'DeltaTime',layout=widgets.Layout(width='100px', height='10px'))\n",
    "nic_button = widgets.Button(description='Add Graphs',layout=widgets.Layout(width='150px', height='28px'))\n",
    "nic_button.on_click(nic_clicked)\n",
    "hbox2 = widgets.HBox([nid_inp,nic_time_temp,nic_button])\n",
    "\n",
    "\n",
    "#App Placement Tab\n",
    "hbox3 = widgets.HBox()\n",
    "\n",
    "\n",
    "#Latency Estimate\n",
    "nid1_inp = widgets.Text(placeholder = 'NID1',layout=widgets.Layout(width='50px', height='10px'))\n",
    "nid2_inp = widgets.Text(placeholder = 'NID2',layout=widgets.Layout(width='50px', height='10px'))\n",
    "latency_button = widgets.Button(description='Add Graphs',layout=widgets.Layout(width='150px', height='28px'))\n",
    "latency_button.on_click(latency_clicked)\n",
    "hbox4 = widgets.HBox([nid1_inp,nid2_inp,latency_button])\n",
    "\n",
    "tab_contents = ['Router Counters','NIC Counters','App Placement','Latency Estimate']\n",
    "children = [hbox1,hbox2,hbox3,hbox4]\n",
    "tab = widgets.Tab()\n",
    "tab.children = children\n",
    "for i in range(len(children)):\n",
    "    tab.set_title(i, tab_contents[i])\n",
    "\n",
    "\n",
    "#Display static fields\n",
    "display(html_title)\n",
    "display(tab)\n",
    "output = widgets.Output()\n",
    "display(output)\n",
    "\n",
    "\n",
    "#Graph Update\n",
    "def drawit(graph,tab,comp):\n",
    "     with output:\n",
    "        clear_output()\n",
    "        sns.set()\n",
    "        sns.set(style='whitegrid')\n",
    "        fig = plt.figure(figsize=(20,5))\n",
    "        plt.clf()\n",
    "        fig.clf()\n",
    "        ax = fig.subplots(1,2)\n",
    "        fig.tight_layout(pad = 5.0)\n",
    "        ax[0].set_ylabel('Stalls/sec')\n",
    "        ax[0].set_xlabel('Time (sec)')\n",
    "        ax[0].set_title('Congestion')\n",
    "        ax[1].set_ylabel('Flits/sec')\n",
    "        ax[1].set_xlabel('Time (sec)')\n",
    "        ax[1].set_title('Traffic')\n",
    "        if graph is 1:\n",
    "            df_out = ldms_backend.get_processed_df(aries_rtr_id,r,c,100-time_temp,80-time_temp)\n",
    "        if graph is 2:\n",
    "            df_out = ldms_backend.get_processed_df_nic2proc(aries_rtr_id,r,c,100-time_temp,80-time_temp)  \n",
    "        sns.lineplot(x='time',y='stall',data=df_out,ax=ax[0])\n",
    "        sns.lineplot(x='time',y='flit',data=df_out,ax=ax[1]);\n",
    "        fig.suptitle(tab + \" \"+ comp)\n",
    "        fig.canvas.draw()\n",
    "        show_inline_matplotlib_plots()"
   ]
  },
  {
   "cell_type": "code",
   "execution_count": null,
   "metadata": {},
   "outputs": [],
   "source": []
  }
 ],
 "metadata": {
  "kernelspec": {
   "display_name": "Python 3",
   "language": "python",
   "name": "python3"
  },
  "language_info": {
   "codemirror_mode": {
    "name": "ipython",
    "version": 3
   },
   "file_extension": ".py",
   "mimetype": "text/x-python",
   "name": "python",
   "nbconvert_exporter": "python",
   "pygments_lexer": "ipython3",
   "version": "3.7.4"
  }
 },
 "nbformat": 4,
 "nbformat_minor": 2
}
